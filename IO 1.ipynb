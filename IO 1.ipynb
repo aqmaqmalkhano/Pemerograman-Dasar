{
  "nbformat": 4,
  "nbformat_minor": 0,
  "metadata": {
    "colab": {
      "provenance": [],
      "authorship_tag": "ABX9TyOG6V59UXhIdUmsflO2d0AN",
      "include_colab_link": true
    },
    "kernelspec": {
      "name": "python3",
      "display_name": "Python 3"
    },
    "language_info": {
      "name": "python"
    }
  },
  "cells": [
    {
      "cell_type": "markdown",
      "metadata": {
        "id": "view-in-github",
        "colab_type": "text"
      },
      "source": [
        "<a href=\"https://colab.research.google.com/github/aqmaqmalkhano/Pemerograman-Dasar/blob/main/IO%201.ipynb\" target=\"_parent\"><img src=\"https://colab.research.google.com/assets/colab-badge.svg\" alt=\"Open In Colab\"/></a>"
      ]
    },
    {
      "cell_type": "code",
      "source": [
        "# Fungsi untuk menerima input dengan tipe data float\n",
        "total = float(input(\"Berapa porsi makan yang Anda beli? :  \"))\n",
        "Nama = str(input(\"Siapa Nama Pelanggan ? : \"))"
      ],
      "metadata": {
        "colab": {
          "base_uri": "https://localhost:8080/"
        },
        "id": "sZyytupLrIor",
        "outputId": "0a6a7a18-5680-442b-bbcf-d06433ec1dcd"
      },
      "execution_count": 8,
      "outputs": [
        {
          "name": "stdout",
          "output_type": "stream",
          "text": [
            "Berapa porsi makan yang Anda beli? :  8\n",
            "Siapa Nama Pelanggan ? : AQM\n"
          ]
        }
      ]
    }
  ]
}