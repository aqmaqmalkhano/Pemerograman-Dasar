{
  "nbformat": 4,
  "nbformat_minor": 0,
  "metadata": {
    "colab": {
      "provenance": [],
      "include_colab_link": true
    },
    "kernelspec": {
      "name": "python3",
      "display_name": "Python 3"
    },
    "language_info": {
      "name": "python"
    }
  },
  "cells": [
    {
      "cell_type": "markdown",
      "metadata": {
        "id": "view-in-github",
        "colab_type": "text"
      },
      "source": [
        "<a href=\"https://colab.research.google.com/github/aqmaqmalkhano/Pemerograman-Dasar/blob/main/Pertemuan_4.ipynb\" target=\"_parent\"><img src=\"https://colab.research.google.com/assets/colab-badge.svg\" alt=\"Open In Colab\"/></a>"
      ]
    },
    {
      "cell_type": "code",
      "execution_count": null,
      "metadata": {
        "colab": {
          "base_uri": "https://localhost:8080/"
        },
        "id": "YClFh2uSbwuQ",
        "outputId": "c426dfc2-0075-4c5a-aedc-999e6d1953d2"
      },
      "outputs": [
        {
          "output_type": "stream",
          "name": "stdout",
          "text": [
            "------------------------------\n",
            "SELAMAT DATANG DI KAFE GENESIS\n",
            "Menu Makanan & Minuman:\n",
            "1. Kopi Hitam   - Rp 12.000\n",
            "2. Teh Manis    - Rp 8.000\n",
            "3. Nasi Bakar   - Rp 15.000\n",
            "4. Mie Instan   - Rp 10.000\n",
            "------------------------------\n",
            "Silakan masukkan nomor pilihan Anda (1-4): 3\n",
            "Anda memesan: Nasi Bakar dengan harga Rp 15000\n",
            "------------------------------\n",
            "Total yang harus dibayar: Rp 15000. Masukkan jumlah uang Anda: Rp 10000\n",
            "Maaf, uang Anda kurang sebesar Rp 5000.\n",
            "------------------------------\n"
          ]
        }
      ],
      "source": [
        "print(\"-\"*30)\n",
        "print(\"SELAMAT DATANG DI KAFE GENESIS\")\n",
        "print(\"Menu Makanan & Minuman:\")\n",
        "print(\"1. Kopi Hitam   - Rp 12.000\")\n",
        "print(\"2. Teh Manis    - Rp 8.000\")\n",
        "print(\"3. Nasi Bakar   - Rp 15.000\")\n",
        "print(\"4. Mie Instan   - Rp 10.000\")\n",
        "print(\"-\"*30)\n",
        "\n",
        "pilihan_str: str = input(\"Silakan masukkan nomor pilihan Anda (1-4): \")\n",
        "pilihan: int = int(pilihan_str)\n",
        "nama_pesanan: str = \"\"\n",
        "harga: int = 0\n",
        "\n",
        "if pilihan == 1:\n",
        "    nama_pesanan = \"Kopi Hitam\"\n",
        "    harga = 12000\n",
        "    print(f\"Anda memesan: {nama_pesanan} dengan harga Rp {harga}\")\n",
        "elif pilihan == 2:\n",
        "    nama_pesanan = \"Teh Manis\"\n",
        "    harga = 8000\n",
        "    print(f\"Anda memesan: {nama_pesanan} dengan harga Rp {harga}\")\n",
        "elif pilihan == 3:\n",
        "    nama_pesanan = \"Nasi Bakar\"\n",
        "    harga = 15000\n",
        "    print(f\"Anda memesan: {nama_pesanan} dengan harga Rp {harga}\")\n",
        "elif pilihan == 4:\n",
        "    nama_pesanan = \"Mie Instan\"\n",
        "    harga = 10000\n",
        "    print(f\"Anda memesan: {nama_pesanan} dengan harga Rp {harga}\")\n",
        "else:\n",
        "    print(\"Maaf, pilihan menu tidak valid. Silakan jalankan ulang program.\")\n",
        "\n",
        "if harga > 0:\n",
        "    print(\"-\" * 30)\n",
        "    uang_dibayar_str: str = input(f\"Total yang harus dibayar: Rp {harga}. Masukkan jumlah uang Anda: Rp \")\n",
        "    uang_dibayar: int = int(uang_dibayar_str)\n",
        "\n",
        "    if uang_dibayar >= harga:\n",
        "        kembalian: int = uang_dibayar - harga\n",
        "\n",
        "        diskon_persen: int = 0\n",
        "        if harga >= 15000:\n",
        "            diskon_persen = 70\n",
        "        elif harga >= 12000:\n",
        "            diskon_persen = 50\n",
        "        elif harga >= 8000:\n",
        "            diskon_persen = 30\n",
        "\n",
        "        if diskon_persen > 0:\n",
        "            nilai_diskon: int = int(harga * diskon_persen / 100)\n",
        "            harga_setelah_diskon: int = harga - nilai_diskon\n",
        "            kembalian_baru: int = uang_dibayar - harga_setelah_diskon\n",
        "\n",
        "            print(\"\\n--- Struk Pembayaran ---\")\n",
        "            print(f\"Pesanan         : {nama_pesanan}\")\n",
        "            print(f\"Harga Normal    : Rp {harga}\")\n",
        "            print(f\"Diskon ({diskon_persen}%)    : Rp {nilai_diskon}\")\n",
        "            print(f\"Total Harga     : Rp {harga_setelah_diskon}\")\n",
        "            print(f\"Uang Pembayaran : Rp {uang_dibayar}\")\n",
        "            print(f\"Kembalian       : Rp {kembalian_baru}\")\n",
        "            print(\"-\"*24)\n",
        "            print(\"Terima kasih telah berbelanja!\")\n",
        "        else:\n",
        "            print(\"\\n--- Struk Pembayaran ---\")\n",
        "            print(f\"Pesanan         : {nama_pesanan}\")\n",
        "            print(f\"Total Harga     : Rp {harga}\")\n",
        "            print(f\"Uang Pembayaran : Rp {uang_dibayar}\")\n",
        "            print(f\"Kembalian       : Rp {kembalian}\")\n",
        "            print(\"-\"*24)\n",
        "            print(\"Terima kasih telah berbelanja!\")\n",
        "\n",
        "    else:\n",
        "        kekurangan: int = harga - uang_dibayar\n",
        "        print(f\"Maaf, uang Anda kurang sebesar Rp {kekurangan}.\")\n",
        "\n",
        "print(\"-\"*30)\n"
      ]
    }
  ]
}