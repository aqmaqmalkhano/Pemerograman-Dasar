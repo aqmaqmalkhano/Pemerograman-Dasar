{
  "nbformat": 4,
  "nbformat_minor": 0,
  "metadata": {
    "colab": {
      "provenance": [],
      "authorship_tag": "ABX9TyNjM9cdpNEoN1+JSZeLf/wI",
      "include_colab_link": true
    },
    "kernelspec": {
      "name": "python3",
      "display_name": "Python 3"
    },
    "language_info": {
      "name": "python"
    }
  },
  "cells": [
    {
      "cell_type": "markdown",
      "metadata": {
        "id": "view-in-github",
        "colab_type": "text"
      },
      "source": [
        "<a href=\"https://colab.research.google.com/github/aqmaqmalkhano/Pemerograman-Dasar/blob/main/IO%202.ipynb\" target=\"_parent\"><img src=\"https://colab.research.google.com/assets/colab-badge.svg\" alt=\"Open In Colab\"/></a>"
      ]
    },
    {
      "cell_type": "code",
      "source": [
        "# Fungsi untuk menerima input dengan tipe data float\n",
        "total = float(input(\"Berapa porsi makan yang Anda beli? :  \"))\n",
        "Nama = str(input(\"Siapa Nama Pelanggan ? : \"))"
      ],
      "metadata": {
        "colab": {
          "base_uri": "https://localhost:8080/"
        },
        "id": "sZyytupLrIor",
        "outputId": "0a6a7a18-5680-442b-bbcf-d06433ec1dcd"
      },
      "execution_count": 8,
      "outputs": [
        {
          "name": "stdout",
          "output_type": "stream",
          "text": [
            "Berapa porsi makan yang Anda beli? :  8\n",
            "Siapa Nama Pelanggan ? : AQM\n"
          ]
        }
      ]
    },
    {
      "cell_type": "code",
      "source": [
        "# PROGRAM INPUT OUTPUT DENGAN BERBAGAI FORMAT\n",
        "# ==========================================\n",
        "\n",
        "# Data contoh\n",
        "nama = \"Hendi\"\n",
        "umur = 25\n",
        "tinggi = 175.5\n",
        "berat = 68.2\n",
        "makanan_favorit = \"Mi ayam bakso\"\n",
        "angka_hex = 255\n",
        "angka_octal = 64\n",
        "harga_makanan = 15000.75\n",
        "\n",
        "print(\"=== PROGRAM MENAMPILKAN DATA PELANGGAN ===\")\n",
        "print()\n",
        "\n",
        "# 1. Menggunakan operator %d untuk integer\n",
        "print(\"1. DATA UMUR (integer):\")\n",
        "print(\"   %s berumur %d tahun\" % (nama, umur))\n",
        "print(\"   Umur dengan padding 3 digit: %03d tahun\" % umur)\n",
        "print()\n",
        "\n",
        "# 2. Menggunakan operator %f untuk float\n",
        "print(\"2. DATA FISIK (float):\")\n",
        "print(\"   Tinggi badan %s adalah %.2f cm\" % (nama, tinggi))\n",
        "print(\"   Berat badan %s adalah %.1f kg\" % (nama, berat))\n",
        "print(\"   Harga makanan: Rp %.2f\" % harga_makanan)\n",
        "print()\n",
        "\n",
        "# 3. Menggunakan operator %s untuk string\n",
        "print(\"3. DATA MAKANAN (string):\")\n",
        "print(\"   %s sedang memesan %s\" % (nama, makanan_favorit))\n",
        "print(\"   Makanan favorit: %s\" % makanan_favorit)\n",
        "print()\n",
        "\n",
        "# 4. Menggunakan operator %x untuk hexadecimal\n",
        "print(\"4. KONVERSI HEXADECIMAL:\")\n",
        "print(\"   Bilangan 255 dalam hexadecimal: %x\" % angka_hex)\n",
        "print(\"   Bilangan 255 dalam HEX kapital: %X\" % angka_hex)\n",
        "print()\n",
        "\n",
        "# 5. Menggunakan operator %o untuk octal\n",
        "print(\"5. KONVERSI OCTAL:\")\n",
        "print(\"   Bilangan 64 dalam octal: %o\" % angka_octal)\n",
        "print()\n",
        "\n",
        "# 6. Kombinasi beberapa operator sekaligus\n",
        "print(\"6. DATA LENGKAP PELANGGAN:\")\n",
        "print(\"   Nama: %s, Umur: %d tahun, Tinggi: %.1f cm, Berat: %.1f kg\" % (nama, umur, tinggi, berat))\n",
        "print(\"   Makanan favorit: %s, Harga: Rp %.2f\" % (makanan_favorit, harga_makanan))\n",
        "print()\n",
        "\n",
        "# 7. Contoh dengan input dari user\n",
        "print(\"=== INPUT DATA PELANGGAN BARU ===\")\n",
        "nama_baru = input(\"Masukkan nama pelanggan : \")\n",
        "umur_baru = int(input(\"Masukkan umur pelanggan : \"))\n",
        "tinggi_baru = float(input(\"Masukkan tinggi badan (cm) : \"))\n",
        "makanan_baru = input(\"Masukkan makanan favorit : \")\n",
        "\n",
        "print()\n",
        "print(\"=== DATA PELANGGAN BARU ===\")\n",
        "print(\"Nama    : %s\" % nama_baru)\n",
        "print(\"Umur    : %d tahun\" % umur_baru)\n",
        "print(\"Tinggi  : %.2f cm\" % tinggi_baru)\n",
        "print(\"Makanan : %s\" % makanan_baru)"
      ],
      "metadata": {
        "colab": {
          "base_uri": "https://localhost:8080/"
        },
        "id": "L0N9CoyFuish",
        "outputId": "9839b599-a9d3-4a59-a05c-381dd3d071e4"
      },
      "execution_count": 16,
      "outputs": [
        {
          "output_type": "stream",
          "name": "stdout",
          "text": [
            "=== PROGRAM MENAMPILKAN DATA PELANGGAN ===\n",
            "\n",
            "1. DATA UMUR (integer):\n",
            "   Hendi berumur 25 tahun\n",
            "   Umur dengan padding 3 digit: 025 tahun\n",
            "\n",
            "2. DATA FISIK (float):\n",
            "   Tinggi badan Hendi adalah 175.50 cm\n",
            "   Berat badan Hendi adalah 68.2 kg\n",
            "   Harga makanan: Rp 15000.75\n",
            "\n",
            "3. DATA MAKANAN (string):\n",
            "   Hendi sedang memesan Mi ayam bakso\n",
            "   Makanan favorit: Mi ayam bakso\n",
            "\n",
            "4. KONVERSI HEXADECIMAL:\n",
            "   Bilangan 255 dalam hexadecimal: ff\n",
            "   Bilangan 255 dalam HEX kapital: FF\n",
            "\n",
            "5. KONVERSI OCTAL:\n",
            "   Bilangan 64 dalam octal: 100\n",
            "\n",
            "6. DATA LENGKAP PELANGGAN:\n",
            "   Nama: Hendi, Umur: 25 tahun, Tinggi: 175.5 cm, Berat: 68.2 kg\n",
            "   Makanan favorit: Mi ayam bakso, Harga: Rp 15000.75\n",
            "\n",
            "=== INPUT DATA PELANGGAN BARU ===\n",
            "Masukkan nama pelanggan : NIKO\n",
            "Masukkan umur pelanggan : 98\n",
            "Masukkan tinggi badan (cm) : 250\n",
            "Masukkan makanan favorit : CACING BESI\n",
            "\n",
            "=== DATA PELANGGAN BARU ===\n",
            "Nama    : NIKO\n",
            "Umur    : 98 tahun\n",
            "Tinggi  : 250.00 cm\n",
            "Makanan : CACING BESI\n"
          ]
        }
      ]
    }
  ]
}