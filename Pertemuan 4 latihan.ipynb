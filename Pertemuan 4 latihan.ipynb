{
  "nbformat": 4,
  "nbformat_minor": 0,
  "metadata": {
    "colab": {
      "provenance": [],
      "authorship_tag": "ABX9TyNx2OHput/A3Wqqadp4/dyN",
      "include_colab_link": true
    },
    "kernelspec": {
      "name": "python3",
      "display_name": "Python 3"
    },
    "language_info": {
      "name": "python"
    }
  },
  "cells": [
    {
      "cell_type": "markdown",
      "metadata": {
        "id": "view-in-github",
        "colab_type": "text"
      },
      "source": [
        "<a href=\"https://colab.research.google.com/github/aqmaqmalkhano/Pemerograman-Dasar/blob/main/Pertemuan%204%20latihan.ipynb\" target=\"_parent\"><img src=\"https://colab.research.google.com/assets/colab-badge.svg\" alt=\"Open In Colab\"/></a>"
      ]
    },
    {
      "cell_type": "code",
      "execution_count": 5,
      "metadata": {
        "colab": {
          "base_uri": "https://localhost:8080/"
        },
        "id": "pfoePauS2qsZ",
        "outputId": "abc90a98-3d5f-46f2-d3e0-c079870f28a1"
      },
      "outputs": [
        {
          "output_type": "stream",
          "name": "stdout",
          "text": [
            "Masukkan sebuah angka (atau ketik 0 untuk keluar): 5\n",
            "Kelipatan 5\n",
            "Masukkan sebuah angka (atau ketik 0 untuk keluar): 10\n",
            "Kelipatan 5\n",
            "Masukkan sebuah angka (atau ketik 0 untuk keluar): 7\n",
            "Bukan kelipatan 5\n",
            "Masukkan sebuah angka (atau ketik 0 untuk keluar): 4\n",
            "Bukan kelipatan 5\n",
            "Masukkan sebuah angka (atau ketik 0 untuk keluar): 0\n",
            "Program selesai.\n"
          ]
        }
      ],
      "source": [
        "while True:\n",
        "    try:\n",
        "        angka = int(input(\"Masukkan sebuah angka (atau ketik 0 untuk keluar): \"))\n",
        "\n",
        "        if angka == 0:\n",
        "            print(\"Program selesai.\")\n",
        "            break\n",
        "\n",
        "        if angka % 5 == 0:\n",
        "            print(\"Kelipatan 5\")\n",
        "        else:\n",
        "            print(\"Bukan kelipatan 5\")\n",
        "\n",
        "    except ValueError:\n",
        "        print(\"Error: Masukkan angka yang valid!\")"
      ]
    },
    {
      "cell_type": "code",
      "source": [
        "def cek_tahun_kabisat(tahun):\n",
        "    \"\"\"Fungsi untuk mengecek apakah tahun adalah kabisat\"\"\"\n",
        "    if tahun % 400 == 0:\n",
        "        return True\n",
        "    elif tahun % 4 == 0 and tahun % 100 != 0:\n",
        "        return True\n",
        "    else:\n",
        "        return False\n",
        "\n",
        "print(\"Program Cek Tahun Kabisat\")\n",
        "print(\"Ketik 'exit' untuk keluar\")\n",
        "\n",
        "while True:\n",
        "    input_tahun = input(\"\\nMasukkan tahun: \")\n",
        "\n",
        "    if input_tahun.lower() == 'exit':\n",
        "        print(\"Program selesai.\")\n",
        "        break\n",
        "\n",
        "    try:\n",
        "        tahun = int(input_tahun)\n",
        "\n",
        "        if cek_tahun_kabisat(tahun):\n",
        "            print(f\"✓ {tahun} adalah tahun kabisat\")\n",
        "        else:\n",
        "            print(f\"✗ {tahun} bukan tahun kabisat\")\n",
        "\n",
        "    except ValueError:\n",
        "        print(\"Error: Masukkan tahun yang valid!\")"
      ],
      "metadata": {
        "colab": {
          "base_uri": "https://localhost:8080/"
        },
        "id": "ZAolgQHz3fLN",
        "outputId": "c62dfaa5-7668-4003-9ca7-701e61bd5b6a"
      },
      "execution_count": 7,
      "outputs": [
        {
          "output_type": "stream",
          "name": "stdout",
          "text": [
            "Program Cek Tahun Kabisat\n",
            "Ketik 'exit' untuk keluar\n",
            "\n",
            "Masukkan tahun: 400\n",
            "✓ 400 adalah tahun kabisat\n",
            "\n",
            "Masukkan tahun: 100\n",
            "✗ 100 bukan tahun kabisat\n",
            "\n",
            "Masukkan tahun: 300\n",
            "✗ 300 bukan tahun kabisat\n",
            "\n",
            "Masukkan tahun: 800\n",
            "✓ 800 adalah tahun kabisat\n",
            "\n",
            "Masukkan tahun: exit\n",
            "Program selesai.\n"
          ]
        }
      ]
    },
    {
      "cell_type": "code",
      "source": [
        "print(\"=\" * 50)\n",
        "print(\"PROGRAM KATEGORI USIA DAN STATUS PENDIDIKAN\")\n",
        "print(\"=\" * 50)\n",
        "\n",
        "# Input data\n",
        "nama = input(\"Masukkan nama: \")\n",
        "usia = int(input(\"Masukkan usia: \"))\n",
        "\n",
        "print(f\"\\nHalo {nama}!\")\n",
        "print(f\"Usia Anda: {usia} tahun\")\n",
        "\n",
        "# Kategori usia\n",
        "print(\"\\n=== KATEGORI USIA ===\")\n",
        "if usia < 0:\n",
        "    kategori_usia = \"Tidak Valid\"\n",
        "    print(\"❌ Usia tidak valid!\")\n",
        "elif usia <= 5:\n",
        "    kategori_usia = \"Balita\"\n",
        "    print(\"👶 Anda termasuk dalam kategori: BALITA\")\n",
        "elif usia <= 12:\n",
        "    kategori_usia = \"Anak-anak\"\n",
        "    print(\"🧒 Anda termasuk dalam kategori: ANAK-ANAK\")\n",
        "elif usia <= 17:\n",
        "    kategori_usia = \"Remaja\"\n",
        "    print(\"👦👧 Anda termasuk dalam kategori: REMAJA\")\n",
        "elif usia <= 59:\n",
        "    kategori_usia = \"Dewasa\"\n",
        "    print(\"👨👩 Anda termasuk dalam kategori: DEWASA\")\n",
        "else:\n",
        "    kategori_usia = \"Lansia\"\n",
        "    print(\"👴👵 Anda termasuk dalam kategori: LANSIA\")\n",
        "\n",
        "# Status pendidikan berdasarkan usia\n",
        "print(\"\\n=== STATUS PENDIDIKAN ===\")\n",
        "if usia < 0:\n",
        "    print(\"❌ Tidak dapat menentukan status pendidikan\")\n",
        "elif usia < 3:\n",
        "    print(\"🏠 Pendidikan: Belum masuk sekolah (PAUD/TK)\")\n",
        "elif usia <= 6:\n",
        "    print(\"🏫 Pendidikan: PAUD/Taman Kanak-Kanak\")\n",
        "elif usia <= 12:\n",
        "    kelas = usia - 6\n",
        "    if kelas > 6:\n",
        "        kelas = 6\n",
        "    print(f\"🏫 Pendidikan: Sekolah Dasar (Kelas {kelas})\")\n",
        "elif usia <= 15:\n",
        "    kelas = usia - 12\n",
        "    if kelas > 3:\n",
        "        kelas = 3\n",
        "    print(f\"🏫 Pendidikan: Sekolah Menengah Pertama (Kelas {kelas})\")\n",
        "elif usia <= 18:\n",
        "    kelas = usia - 15\n",
        "    if kelas > 3:\n",
        "        kelas = 3\n",
        "    print(f\"🏫 Pendidikan: Sekolah Menengah Atas (Kelas {kelas})\")\n",
        "elif usia <= 22:\n",
        "    semester = (usia - 18) * 2\n",
        "    if semester > 8:\n",
        "        semester = 8\n",
        "    print(f\"🎓 Pendidikan: Perguruan Tinggi (Semester {semester})\")\n",
        "elif usia <= 25:\n",
        "    print(\"🎓 Pendidikan: S1/Mahasiswa Pascasarjana\")\n",
        "elif usia <= 30:\n",
        "    print(\"🎓 Pendidikan: S2/Profesional\")\n",
        "else:\n",
        "    print(\"💼 Pendidikan: Sudah menyelesaikan pendidikan formal\")\n",
        "\n",
        "# Pesan tambahan berdasarkan kategori\n",
        "print(\"\\n=== PESAN ===\")\n",
        "if kategori_usia == \"Balita\":\n",
        "    print(\"💝 Fokus pada tumbuh kembang dan bermain!\")\n",
        "elif kategori_usia == \"Anak-anak\":\n",
        "    print(\"📚 Waktunya belajar dan bermain dengan teman!\")\n",
        "elif kategori_usia == \"Remaja\":\n",
        "    print(\"🌟 Masa mencari jati diri dan menentukan cita-cita!\")\n",
        "elif kategori_usia == \"Dewasa\":\n",
        "    print(\"💪 Waktunya berkarya dan bertanggung jawab!\")\n",
        "elif kategori_usia == \"Lansia\":\n",
        "    print(\"🌅 Nikmati masa pensiun dengan kegiatan positif!\")\n",
        "\n",
        "print(\"\\n\" + \"=\" * 50)\n",
        "print(\"Terima kasih telah hidup!\")\n",
        "print(\"=\" * 50)"
      ],
      "metadata": {
        "colab": {
          "base_uri": "https://localhost:8080/"
        },
        "id": "Hv-Pl9U64Xsw",
        "outputId": "f82451b2-bab6-47b8-cc29-41e10cdd3322"
      },
      "execution_count": 9,
      "outputs": [
        {
          "output_type": "stream",
          "name": "stdout",
          "text": [
            "==================================================\n",
            "PROGRAM KATEGORI USIA DAN STATUS PENDIDIKAN\n",
            "==================================================\n",
            "Masukkan nama: aqm\n",
            "Masukkan usia: 20\n",
            "\n",
            "Halo aqm!\n",
            "Usia Anda: 20 tahun\n",
            "\n",
            "=== KATEGORI USIA ===\n",
            "👨👩 Anda termasuk dalam kategori: DEWASA\n",
            "\n",
            "=== STATUS PENDIDIKAN ===\n",
            "🎓 Pendidikan: Perguruan Tinggi (Semester 4)\n",
            "\n",
            "=== PESAN ===\n",
            "💪 Waktunya berkarya dan bertanggung jawab!\n",
            "\n",
            "==================================================\n",
            "Terima kasih telah hidup!\n",
            "==================================================\n"
          ]
        }
      ]
    },
    {
      "cell_type": "code",
      "source": [
        "print(\"=== PROGRAM KONVERSI ANGKA BULAN ===\")\n",
        "print(\"Ketik '0' untuk keluar\")\n",
        "\n",
        "while True:\n",
        "    try:\n",
        "        input_angka = input(\"\\nMasukkan angka bulan (1-12): \")\n",
        "\n",
        "        if input_angka == '0':\n",
        "            print(\"Program selesai. Terima kasih!\")\n",
        "            break\n",
        "\n",
        "        angka_bulan = int(input_angka)\n",
        "\n",
        "        if angka_bulan == 1:\n",
        "            print(\"→ Januari\")\n",
        "        elif angka_bulan == 2:\n",
        "            print(\"→ Februari\")\n",
        "        elif angka_bulan == 3:\n",
        "            print(\"→ Maret\")\n",
        "        elif angka_bulan == 4:\n",
        "            print(\"→ April\")\n",
        "        elif angka_bulan == 5:\n",
        "            print(\"→ Mei\")\n",
        "        elif angka_bulan == 6:\n",
        "            print(\"→ Juni\")\n",
        "        elif angka_bulan == 7:\n",
        "            print(\"→ Juli\")\n",
        "        elif angka_bulan == 8:\n",
        "            print(\"→ Agustus\")\n",
        "        elif angka_bulan == 9:\n",
        "            print(\"→ September\")\n",
        "        elif angka_bulan == 10:\n",
        "            print(\"→ Oktober\")\n",
        "        elif angka_bulan == 11:\n",
        "            print(\"→ November\")\n",
        "        elif angka_bulan == 12:\n",
        "            print(\"→ Desember\")\n",
        "        else:\n",
        "            print(\"❌ Input salah! Masukkan angka 1-12\")\n",
        "\n",
        "    except ValueError:\n",
        "        print(\"❌ Error: Masukkan angka yang valid!\")"
      ],
      "metadata": {
        "colab": {
          "base_uri": "https://localhost:8080/"
        },
        "id": "7KJ2ADe05zri",
        "outputId": "bacf43c8-33dc-4c77-914e-b2f8ad83045c"
      },
      "execution_count": 12,
      "outputs": [
        {
          "output_type": "stream",
          "name": "stdout",
          "text": [
            "=== PROGRAM KONVERSI ANGKA BULAN ===\n",
            "Ketik '0' untuk keluar\n",
            "\n",
            "Masukkan angka bulan (1-12): 9\n",
            "→ September\n",
            "\n",
            "Masukkan angka bulan (1-12): 8\n",
            "→ Agustus\n",
            "\n",
            "Masukkan angka bulan (1-12): 13\n",
            "❌ Input salah! Masukkan angka 1-12\n",
            "\n",
            "Masukkan angka bulan (1-12): 14\n",
            "❌ Input salah! Masukkan angka 1-12\n",
            "\n",
            "Masukkan angka bulan (1-12): 0\n",
            "Program selesai. Terima kasih!\n"
          ]
        }
      ]
    },
    {
      "cell_type": "code",
      "source": [
        "print(\"=== PROGRAM SALAM SESUAI WAKTU ===\")\n",
        "print(\"Ketik 'exit' untuk keluar\")\n",
        "\n",
        "while True:\n",
        "    try:\n",
        "        input_jam = input(\"\\nMasukkan jam (0-23): \")\n",
        "\n",
        "        if input_jam.lower() == 'exit':\n",
        "            print(\"Terima kasih! Sampai jumpa 👋\")\n",
        "            break\n",
        "\n",
        "        jam = int(input_jam)\n",
        "\n",
        "        if 0 <= jam <= 11:\n",
        "            print(\"🌅 Selamat Pagi! Semangat untuk hari ini!\")\n",
        "        elif 12 <= jam <= 15:\n",
        "            print(\"☀️ Selamat Siang! Jangan lupa makan siang!\")\n",
        "        elif 16 <= jam <= 18:\n",
        "            print(\"🌇 Selamat Sore! Waktunya pulang dan beristirahat!\")\n",
        "        elif 19 <= jam <= 23:\n",
        "            print(\"🌙 Selamat Malam! Semoga tidur nyenyak!\")\n",
        "        else:\n",
        "            print(\"❌ Input salah! Masukkan jam antara 0-23\")\n",
        "\n",
        "    except ValueError:\n",
        "        print(\"❌ Error: Masukkan angka yang valid!\")"
      ],
      "metadata": {
        "colab": {
          "base_uri": "https://localhost:8080/"
        },
        "id": "OEZCOLut7RWa",
        "outputId": "c44bf170-b345-4f52-c547-60c9787e954c"
      },
      "execution_count": 13,
      "outputs": [
        {
          "output_type": "stream",
          "name": "stdout",
          "text": [
            "=== PROGRAM SALAM SESUAI WAKTU ===\n",
            "Ketik 'exit' untuk keluar\n",
            "\n",
            "Masukkan jam (0-23): 1\n",
            "🌅 Selamat Pagi! Semangat untuk hari ini!\n",
            "\n",
            "Masukkan jam (0-23): 13\n",
            "☀️ Selamat Siang! Jangan lupa makan siang!\n",
            "\n",
            "Masukkan jam (0-23): 17\n",
            "🌇 Selamat Sore! Waktunya pulang dan beristirahat!\n",
            "\n",
            "Masukkan jam (0-23): 22\n",
            "🌙 Selamat Malam! Semoga tidur nyenyak!\n",
            "\n",
            "Masukkan jam (0-23): exit\n",
            "Terima kasih! Sampai jumpa 👋\n"
          ]
        }
      ]
    }
  ]
}