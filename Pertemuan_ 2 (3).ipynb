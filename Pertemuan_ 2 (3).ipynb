{
  "nbformat": 4,
  "nbformat_minor": 0,
  "metadata": {
    "colab": {
      "provenance": [],
      "authorship_tag": "ABX9TyOP/JYtsm/Q6hF6qs9F6XiG",
      "include_colab_link": true
    },
    "kernelspec": {
      "name": "python3",
      "display_name": "Python 3"
    },
    "language_info": {
      "name": "python"
    }
  },
  "cells": [
    {
      "cell_type": "markdown",
      "metadata": {
        "id": "view-in-github",
        "colab_type": "text"
      },
      "source": [
        "<a href=\"https://colab.research.google.com/github/aqmaqmalkhano/Pemerograman-Dasar/blob/main/Pertemuan_(3).ipynb\" target=\"_parent\"><img src=\"https://colab.research.google.com/assets/colab-badge.svg\" alt=\"Open In Colab\"/></a>"
      ]
    },
    {
      "cell_type": "code",
      "execution_count": 6,
      "metadata": {
        "colab": {
          "base_uri": "https://localhost:8080/"
        },
        "id": "T1Hl-iUEamC3",
        "outputId": "ededfcab-a350-428c-e54e-035f296def8b"
      },
      "outputs": [
        {
          "output_type": "stream",
          "name": "stdout",
          "text": [
            "23\n",
            "43\n",
            "51\n",
            "34\n",
            "[23, 43, 51, 34]\n"
          ]
        }
      ],
      "source": [
        "# deklarasi variabel list\n",
        "numbers = [23, 43, 15, 34]\n",
        "# cara mengakses elemen dalam variabel list\n",
        "numbers [0]  # 23\n",
        "numbers [1]  # 43\n",
        "numbers [2]  # 15\n",
        "numbers [3]  # 34\n",
        "#cara mengubah nilai elemen dalam variabel list\n",
        "numbers [2] # 51\n",
        "numbers [2] = 51\n",
        "\n",
        "print (numbers [0])\n",
        "print (numbers [1])\n",
        "print (numbers [2])\n",
        "print (numbers [3])\n",
        "print (numbers)\n",
        "\n",
        "\n",
        "\n",
        "\n",
        "\n"
      ]
    },
    {
      "cell_type": "code",
      "source": [],
      "metadata": {
        "id": "yyW0SwPY_t48"
      },
      "execution_count": 6,
      "outputs": []
    },
    {
      "cell_type": "code",
      "execution_count": 7,
      "metadata": {
        "colab": {
          "base_uri": "https://localhost:8080/"
        },
        "id": "3buDDGQmrFib",
        "outputId": "acba5db3-986a-4315-c5e8-168a00ea88bd"
      },
      "outputs": [
        {
          "output_type": "stream",
          "name": "stdout",
          "text": [
            "First Name : AQM AQMAL\n",
            "Last Name  : KHANO\n",
            "Age        : 20\n",
            "Married    : False\n"
          ]
        }
      ],
      "source": [
        "\n",
        "firstName = \"AQM AQMAL\"\n",
        "lastName = \"KHANO\"\n",
        "age = 20\n",
        "isMarried= False\n",
        "\n",
        "\n",
        "print(\"First Name :\", firstName)\n",
        "print(\"Last Name  :\", lastName)\n",
        "print(\"Age        :\", age)\n",
        "print(\"Married    :\", isMarried)\n",
        "\n",
        "\n"
      ]
    },
    {
      "cell_type": "code",
      "source": [
        "data_diri = {\n",
        "    \"firstName\": \"AQM AQMAL\",\n",
        "    \"lastName\" : \"KHANO\",\n",
        "    \"age\" : 20,\n",
        "    \"isMarried\" : False\n",
        "}\n",
        "\n",
        "\n",
        "print(\"Personal Data:\")\n",
        "print(\"First Name :\", data_diri[\"firstName\"])\n",
        "print(\"Last Name:\", data_diri[\"lastName\"])\n",
        "print(\"Age:\", data_diri[\"age\"])\n",
        "print(\"Married:\", data_diri[\"isMarried\"])"
      ],
      "metadata": {
        "colab": {
          "base_uri": "https://localhost:8080/"
        },
        "id": "_03H7SMLheLv",
        "outputId": "1e5540b9-3baa-4bb4-b39d-862e97f4dc14"
      },
      "execution_count": 8,
      "outputs": [
        {
          "output_type": "stream",
          "name": "stdout",
          "text": [
            "Personal Data:\n",
            "First Name : AQM AQMAL\n",
            "Last Name: KHANO\n",
            "Age: 20\n",
            "Married: False\n"
          ]
        }
      ]
    },
    {
      "cell_type": "code",
      "source": [
        "inspeksi = [\n",
        "    \"pemahaman terhadap rencana dan desain\",\n",
        "    \"ketersediaan bahan dan peralatan\",\n",
        "    \"pengawasan pekerjaan\",\n",
        "    \"kualitas kontruksi\",\n",
        "    \"keselamatan kerja\",\n",
        "    \"koordinasi dengan pemilik proyek\"\n",
        "]\n",
        "\n",
        "\n",
        "print(\"Daftar Inspeksi:\")\n",
        "for item in inspeksi:\n",
        "  print(\"_\", item)"
      ],
      "metadata": {
        "colab": {
          "base_uri": "https://localhost:8080/"
        },
        "id": "4PgP1IdfiKXL",
        "outputId": "ca8515b7-4264-440d-a617-48a2148080be"
      },
      "execution_count": 9,
      "outputs": [
        {
          "output_type": "stream",
          "name": "stdout",
          "text": [
            "Daftar Inspeksi:\n",
            "_ pemahaman terhadap rencana dan desain\n",
            "_ ketersediaan bahan dan peralatan\n",
            "_ pengawasan pekerjaan\n",
            "_ kualitas kontruksi\n",
            "_ keselamatan kerja\n",
            "_ koordinasi dengan pemilik proyek\n"
          ]
        }
      ]
    }
  ]
}
