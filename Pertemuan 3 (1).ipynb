{
  "nbformat": 4,
  "nbformat_minor": 0,
  "metadata": {
    "colab": {
      "provenance": [],
      "authorship_tag": "ABX9TyMXK2JWYMjjtSTUnzxuRVAT",
      "include_colab_link": true
    },
    "kernelspec": {
      "name": "python3",
      "display_name": "Python 3"
    },
    "language_info": {
      "name": "python"
    }
  },
  "cells": [
    {
      "cell_type": "markdown",
      "metadata": {
        "id": "view-in-github",
        "colab_type": "text"
      },
      "source": [
        "<a href=\"https://colab.research.google.com/github/aqmaqmalkhano/Pemerograman-Dasar/blob/main/Pertemuan%203%20(1).ipynb\" target=\"_parent\"><img src=\"https://colab.research.google.com/assets/colab-badge.svg\" alt=\"Open In Colab\"/></a>"
      ]
    },
    {
      "cell_type": "code",
      "execution_count": 6,
      "metadata": {
        "colab": {
          "base_uri": "https://localhost:8080/"
        },
        "id": "nKyhSxpAVzJX",
        "outputId": "c3a684c0-ce33-415b-88d3-a3fdf5fd0f75"
      },
      "outputs": [
        {
          "output_type": "stream",
          "name": "stdout",
          "text": [
            "=== PROGRAM KASIR KEDAI KOPI ===\n",
            "\n",
            "Subtotal belanja: Rp 100,000\n",
            "Status member: Ya\n",
            "Subtotal > Rp 100.000: Tidak\n",
            "Berhak diskon 15%: Tidak\n",
            "Jumlah diskon: Rp 0\n",
            "Harga setelah diskon: Rp 100,000\n",
            "PPN (11%): Rp 11,000.0\n",
            "Total akhir: Rp 111,000.0\n",
            "\n",
            "=== RINCIAN BELANJA ===\n",
            "Kopi: 2 x Rp 25,000 = Rp 50,000\n",
            "Roti: 1 x Rp 15,000 = Rp 15,000\n",
            "Pasta: 1 x Rp 35,000 = Rp 35,000\n",
            "Subtotal: Rp 100,000\n",
            "Diskon: Rp 0\n",
            "PPN: Rp 11,000.0\n",
            "TOTAL AKHIR: Rp 111,000.0\n"
          ]
        }
      ],
      "source": [
        "# Program Kasir Sederhana untuk Kedai Kopi\n",
        "\n",
        "# Data Input (Variabel)\n",
        "harga_kopi = 25000\n",
        "harga_roti = 15000\n",
        "harga_pasta = 35000\n",
        "jumlah_kopi = 2\n",
        "jumlah_roti = 1\n",
        "jumlah_pasta = 1\n",
        "is_member = True  # True jika pelanggan adalah member, False jika bukan\n",
        "\n",
        "print(\"=== PROGRAM KASIR KEDAI KOPI ===\\n\")\n",
        "\n",
        "# 1. Hitung Subtotal\n",
        "subtotal = (harga_kopi * jumlah_kopi) + (harga_roti * jumlah_roti) + (harga_pasta * jumlah_pasta)\n",
        "print(f\"Subtotal belanja: Rp {subtotal:,}\")\n",
        "\n",
        "# 2. Evaluasi Syarat Diskon\n",
        "diskon_terpenuhi = is_member and subtotal > 100000\n",
        "print(f\"Status member: {'Ya' if is_member else 'Bukan'}\")\n",
        "print(f\"Subtotal > Rp 100.000: {'Ya' if subtotal > 100000 else 'Tidak'}\")\n",
        "print(f\"Berhak diskon 15%: {'Ya' if diskon_terpenuhi else 'Tidak'}\")\n",
        "\n",
        "# 3. Hitung Jumlah Diskon\n",
        "if diskon_terpenuhi:\n",
        "    jumlah_diskon = subtotal * 0.15\n",
        "else:\n",
        "    jumlah_diskon = 0\n",
        "print(f\"Jumlah diskon: Rp {jumlah_diskon:,}\")\n",
        "\n",
        "# 4. Hitung Harga Setelah Diskon\n",
        "harga_setelah_diskon = subtotal - jumlah_diskon\n",
        "print(f\"Harga setelah diskon: Rp {harga_setelah_diskon:,}\")\n",
        "\n",
        "# 5. Hitung PPN\n",
        "ppn = harga_setelah_diskon * 0.11\n",
        "print(f\"PPN (11%): Rp {ppn:,}\")\n",
        "\n",
        "# 6. Hitung Total Akhir\n",
        "total_akhir = harga_setelah_diskon + ppn\n",
        "print(f\"Total akhir: Rp {total_akhir:,}\")\n",
        "\n",
        "print(\"\\n=== RINCIAN BELANJA ===\")\n",
        "print(f\"Kopi: {jumlah_kopi} x Rp {harga_kopi:,} = Rp {harga_kopi * jumlah_kopi:,}\")\n",
        "print(f\"Roti: {jumlah_roti} x Rp {harga_roti:,} = Rp {harga_roti * jumlah_roti:,}\")\n",
        "print(f\"Pasta: {jumlah_pasta} x Rp {harga_pasta:,} = Rp {harga_pasta * jumlah_pasta:,}\")\n",
        "print(f\"Subtotal: Rp {subtotal:,}\")\n",
        "print(f\"Diskon: Rp {jumlah_diskon:,}\")\n",
        "print(f\"PPN: Rp {ppn:,}\")\n",
        "print(f\"TOTAL AKHIR: Rp {total_akhir:,}\")"
      ]
    },
    {
      "cell_type": "code",
      "source": [
        "def cek_tahun_kabisat():\n",
        "    \"\"\"\n",
        "    Fungsi untuk menentukan apakah suatu tahun merupakan tahun kabisat\n",
        "    \"\"\"\n",
        "\n",
        "    # Input dari pengguna\n",
        "    print(\"=== PROGRAM PENENTU TAHUN KABISAT ===\")\n",
        "    tahun = int(input(\"Masukkan tahun yang ingin diperiksa: \"))\n",
        "\n",
        "    # Operasi aritmatika dan logika\n",
        "    # Kondisi 1: Habis dibagi 4 tetapi tidak habis dibagi 100\n",
        "    kondisi_a = (tahun % 4 == 0) and (tahun % 100 != 0)\n",
        "\n",
        "    # Kondisi 2: Habis dibagi 400\n",
        "    kondisi_b = (tahun % 400 == 0)\n",
        "\n",
        "    # Gabungan kondisi (ekspresi logika kompleks)\n",
        "    is_kabisat = kondisi_a or kondisi_b\n",
        "\n",
        "    # Output hasil\n",
        "    print(\"\\n\" + \"=\"*40)\n",
        "    print(f\"HASIL PEMERIKSAAN TAHUN {tahun}\")\n",
        "    print(\"=\"*40)\n",
        "\n",
        "    if is_kabisat:\n",
        "        print(f\"✅ Tahun {tahun} adalah TAHUN KABISAT\")\n",
        "    else:\n",
        "        print(f\"❌ Tahun {tahun} BUKAN tahun kabisat\")\n",
        "\n",
        "    # Informasi detail kondisi\n",
        "    print(\"\\nDetail Pemeriksaan:\")\n",
        "    print(f\"- Habis dibagi 4: {tahun % 4 == 0}\")\n",
        "    print(f\"- Tidak habis dibagi 100: {tahun % 100 != 0}\")\n",
        "    print(f\"- Habis dibagi 400: {tahun % 400 == 0}\")\n",
        "\n",
        "    return is_kabisat\n",
        "\n",
        "def contoh_penggunaan():\n",
        "    \"\"\"\n",
        "    Fungsi untuk menampilkan contoh penggunaan\n",
        "    \"\"\"\n",
        "    print(\"\\n\" + \"=\"*50)\n",
        "    print(\"CONTOH TAHUN KABISAT DAN BUKAN\")\n",
        "    print(\"=\"*50)\n",
        "\n",
        "    contoh_tahun = [2000, 1900, 2020, 2021, 2024, 2100]\n",
        "\n",
        "    for tahun in contoh_tahun:\n",
        "        kondisi_a = (tahun % 4 == 0) and (tahun % 100 != 0)\n",
        "        kondisi_b = (tahun % 400 == 0)\n",
        "        is_kabisat = kondisi_a or kondisi_b\n",
        "\n",
        "        status = \"KABISAT\" if is_kabisat else \"BUKAN\"\n",
        "        print(f\"Tahun {tahun}: {status}\")\n",
        "\n",
        "# Program utama\n",
        "if __name__ == \"__main__\":\n",
        "    # Jalankan program utama\n",
        "    cek_tahun_kabisat()\n",
        "\n",
        "    # Tampilkan contoh\n",
        "    contoh_penggunaan()"
      ],
      "metadata": {
        "colab": {
          "base_uri": "https://localhost:8080/"
        },
        "id": "ynTpwPxfg5ID",
        "outputId": "df9c5af8-1657-4038-e0da-9188b70726c5"
      },
      "execution_count": 7,
      "outputs": [
        {
          "output_type": "stream",
          "name": "stdout",
          "text": [
            "=== PROGRAM PENENTU TAHUN KABISAT ===\n",
            "Masukkan tahun yang ingin diperiksa: 2100\n",
            "\n",
            "========================================\n",
            "HASIL PEMERIKSAAN TAHUN 2100\n",
            "========================================\n",
            "❌ Tahun 2100 BUKAN tahun kabisat\n",
            "\n",
            "Detail Pemeriksaan:\n",
            "- Habis dibagi 4: True\n",
            "- Tidak habis dibagi 100: False\n",
            "- Habis dibagi 400: False\n",
            "\n",
            "==================================================\n",
            "CONTOH TAHUN KABISAT DAN BUKAN\n",
            "==================================================\n",
            "Tahun 2000: KABISAT\n",
            "Tahun 1900: BUKAN\n",
            "Tahun 2020: KABISAT\n",
            "Tahun 2021: BUKAN\n",
            "Tahun 2024: KABISAT\n",
            "Tahun 2100: BUKAN\n"
          ]
        }
      ]
    }
  ]
}