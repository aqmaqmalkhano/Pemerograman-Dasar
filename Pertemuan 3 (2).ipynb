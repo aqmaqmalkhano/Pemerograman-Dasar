{
  "nbformat": 4,
  "nbformat_minor": 0,
  "metadata": {
    "colab": {
      "provenance": [],
      "authorship_tag": "ABX9TyPC0Tk59UnEyp23PKrStsAO",
      "include_colab_link": true
    },
    "kernelspec": {
      "name": "python3",
      "display_name": "Python 3"
    },
    "language_info": {
      "name": "python"
    }
  },
  "cells": [
    {
      "cell_type": "markdown",
      "metadata": {
        "id": "view-in-github",
        "colab_type": "text"
      },
      "source": [
        "<a href=\"https://colab.research.google.com/github/aqmaqmalkhano/Pemerograman-Dasar/blob/main/Pertemuan%203%20(2).ipynb\" target=\"_parent\"><img src=\"https://colab.research.google.com/assets/colab-badge.svg\" alt=\"Open In Colab\"/></a>"
      ]
    },
    {
      "cell_type": "code",
      "execution_count": 2,
      "metadata": {
        "colab": {
          "base_uri": "https://localhost:8080/"
        },
        "id": "nKyhSxpAVzJX",
        "outputId": "9ad62d27-4c66-4b07-d2cf-1d5db3877464"
      },
      "outputs": [
        {
          "output_type": "stream",
          "name": "stdout",
          "text": [
            "=== PROGRAM KASIR KEDAI KOPI ===\n",
            "\n",
            "Subtotal belanja: Rp 100,000\n",
            "Status member: Ya\n",
            "Subtotal > Rp 100.000: Tidak\n",
            "Berhak diskon 15%: Tidak\n",
            "Jumlah diskon: Rp 0\n",
            "Harga setelah diskon: Rp 100,000\n",
            "PPN (11%): Rp 11,000.0\n",
            "Total akhir: Rp 111,000.0\n",
            "\n",
            "=== RINCIAN BELANJA ===\n",
            "Kopi: 2 x Rp 25,000 = Rp 50,000\n",
            "Roti: 1 x Rp 15,000 = Rp 15,000\n",
            "Pasta: 1 x Rp 35,000 = Rp 35,000\n",
            "Subtotal: Rp 100,000\n",
            "Diskon: Rp 0\n",
            "PPN: Rp 11,000.0\n",
            "TOTAL AKHIR: Rp 111,000.0\n"
          ]
        }
      ],
      "source": [
        "# Program Kasir Sederhana untuk Kedai Kopi\n",
        "\n",
        "# Data Input (Variabel)\n",
        "harga_kopi = 25000\n",
        "harga_roti = 15000\n",
        "harga_pasta = 35000\n",
        "jumlah_kopi = 2\n",
        "jumlah_roti = 1\n",
        "jumlah_pasta = 1\n",
        "is_member = True  # True jika pelanggan adalah member, False jika bukan\n",
        "\n",
        "print(\"=== PROGRAM KASIR KEDAI KOPI ===\\n\")\n",
        "\n",
        "# 1. Hitung Subtotal\n",
        "subtotal = (harga_kopi * jumlah_kopi) + (harga_roti * jumlah_roti) + (harga_pasta * jumlah_pasta)\n",
        "print(f\"Subtotal belanja: Rp {subtotal:,}\")\n",
        "\n",
        "# 2. Evaluasi Syarat Diskon\n",
        "diskon_terpenuhi = is_member and subtotal > 100000\n",
        "print(f\"Status member: {'Ya' if is_member else 'Bukan'}\")\n",
        "print(f\"Subtotal > Rp 100.000: {'Ya' if subtotal > 100000 else 'Tidak'}\")\n",
        "print(f\"Berhak diskon 15%: {'Ya' if diskon_terpenuhi else 'Tidak'}\")\n",
        "\n",
        "# 3. Hitung Jumlah Diskon\n",
        "if diskon_terpenuhi:\n",
        "    jumlah_diskon = subtotal * 0.15\n",
        "else:\n",
        "    jumlah_diskon = 0\n",
        "print(f\"Jumlah diskon: Rp {jumlah_diskon:,}\")\n",
        "\n",
        "# 4. Hitung Harga Setelah Diskon\n",
        "harga_setelah_diskon = subtotal - jumlah_diskon\n",
        "print(f\"Harga setelah diskon: Rp {harga_setelah_diskon:,}\")\n",
        "\n",
        "# 5. Hitung PPN\n",
        "ppn = harga_setelah_diskon * 0.11\n",
        "print(f\"PPN (11%): Rp {ppn:,}\")\n",
        "\n",
        "# 6. Hitung Total Akhir\n",
        "total_akhir = harga_setelah_diskon + ppn\n",
        "print(f\"Total akhir: Rp {total_akhir:,}\")\n",
        "\n",
        "print(\"\\n=== RINCIAN BELANJA ===\")\n",
        "print(f\"Kopi: {jumlah_kopi} x Rp {harga_kopi:,} = Rp {harga_kopi * jumlah_kopi:,}\")\n",
        "print(f\"Roti: {jumlah_roti} x Rp {harga_roti:,} = Rp {harga_roti * jumlah_roti:,}\")\n",
        "print(f\"Pasta: {jumlah_pasta} x Rp {harga_pasta:,} = Rp {harga_pasta * jumlah_pasta:,}\")\n",
        "print(f\"Subtotal: Rp {subtotal:,}\")\n",
        "print(f\"Diskon: Rp {jumlah_diskon:,}\")\n",
        "print(f\"PPN: Rp {ppn:,}\")\n",
        "print(f\"TOTAL AKHIR: Rp {total_akhir:,}\")"
      ]
    }
  ]
}