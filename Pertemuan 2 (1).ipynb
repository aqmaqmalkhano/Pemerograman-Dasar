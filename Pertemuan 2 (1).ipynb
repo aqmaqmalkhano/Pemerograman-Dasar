{
  "nbformat": 4,
  "nbformat_minor": 0,
  "metadata": {
    "colab": {
      "provenance": [],
      "authorship_tag": "ABX9TyN8FYC6wp0hl0HU/xKdmV/x",
      "include_colab_link": true
    },
    "kernelspec": {
      "name": "python3",
      "display_name": "Python 3"
    },
    "language_info": {
      "name": "python"
    }
  },
  "cells": [
    {
      "cell_type": "markdown",
      "metadata": {
        "id": "view-in-github",
        "colab_type": "text"
      },
      "source": [
        "<a href=\"https://colab.research.google.com/github/aqmaqmalkhano/Pemerograman-Dasar/blob/main/Pertemuan%202%20(1).ipynb\" target=\"_parent\"><img src=\"https://colab.research.google.com/assets/colab-badge.svg\" alt=\"Open In Colab\"/></a>"
      ]
    },
    {
      "cell_type": "code",
      "execution_count": 1,
      "metadata": {
        "colab": {
          "base_uri": "https://localhost:8080/"
        },
        "id": "T1Hl-iUEamC3",
        "outputId": "0fd27033-7d73-4899-9c2e-f377101df87c"
      },
      "outputs": [
        {
          "output_type": "stream",
          "name": "stdout",
          "text": [
            "23\n",
            "43\n",
            "51\n",
            "34\n",
            "[23, 43, 51, 34]\n"
          ]
        }
      ],
      "source": [
        "# deklarasi variabel list\n",
        "numbers = [23, 43, 15, 34]\n",
        "# cara mengakses elemen dalam variabel list\n",
        "numbers [0]  # 23\n",
        "numbers [1]  # 43\n",
        "numbers [2]  # 15\n",
        "numbers [3]  # 34\n",
        "#cara mengubah nilai elemen dalam variabel list\n",
        "numbers [2] # 51\n",
        "numbers [2] = 51\n",
        "\n",
        "print (numbers [0])\n",
        "print (numbers [1])\n",
        "print (numbers [2])\n",
        "print (numbers [3])\n",
        "print (numbers)\n",
        "\n",
        "\n",
        "\n",
        "\n",
        "\n"
      ]
    },
    {
      "cell_type": "code",
      "source": [],
      "metadata": {
        "id": "yyW0SwPY_t48"
      },
      "execution_count": 1,
      "outputs": []
    },
    {
      "cell_type": "code",
      "execution_count": 2,
      "metadata": {
        "colab": {
          "base_uri": "https://localhost:8080/"
        },
        "id": "3buDDGQmrFib",
        "outputId": "402fbf81-4f36-4e4c-8a89-9f30a035e77e"
      },
      "outputs": [
        {
          "output_type": "stream",
          "name": "stdout",
          "text": [
            "First Name : AQM AQMAL\n",
            "Last Name  : KHANO\n",
            "Age        : 20\n",
            "Married    : False\n"
          ]
        }
      ],
      "source": [
        "\n",
        "firstName = \"AQM AQMAL\"\n",
        "lastName = \"KHANO\"\n",
        "age = 20\n",
        "isMarried= False\n",
        "\n",
        "\n",
        "print(\"First Name :\", firstName)\n",
        "print(\"Last Name  :\", lastName)\n",
        "print(\"Age        :\", age)\n",
        "print(\"Married    :\", isMarried)\n",
        "\n",
        "\n"
      ]
    }
  ]
}