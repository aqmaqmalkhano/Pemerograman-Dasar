{
  "nbformat": 4,
  "nbformat_minor": 0,
  "metadata": {
    "colab": {
      "provenance": [],
      "authorship_tag": "ABX9TyOCmN23LghA+RwgAE8CN7Wn",
      "include_colab_link": true
    },
    "kernelspec": {
      "name": "python3",
      "display_name": "Python 3"
    },
    "language_info": {
      "name": "python"
    }
  },
  "cells": [
    {
      "cell_type": "markdown",
      "metadata": {
        "id": "view-in-github",
        "colab_type": "text"
      },
      "source": [
        "<a href=\"https://colab.research.google.com/github/aqmaqmalkhano/Pemerograman-Dasar/blob/main/Pertemuan%204%20Latihan.ipynb\" target=\"_parent\"><img src=\"https://colab.research.google.com/assets/colab-badge.svg\" alt=\"Open In Colab\"/></a>"
      ]
    },
    {
      "cell_type": "code",
      "execution_count": 5,
      "metadata": {
        "colab": {
          "base_uri": "https://localhost:8080/"
        },
        "id": "pfoePauS2qsZ",
        "outputId": "abc90a98-3d5f-46f2-d3e0-c079870f28a1"
      },
      "outputs": [
        {
          "output_type": "stream",
          "name": "stdout",
          "text": [
            "Masukkan sebuah angka (atau ketik 0 untuk keluar): 5\n",
            "Kelipatan 5\n",
            "Masukkan sebuah angka (atau ketik 0 untuk keluar): 10\n",
            "Kelipatan 5\n",
            "Masukkan sebuah angka (atau ketik 0 untuk keluar): 7\n",
            "Bukan kelipatan 5\n",
            "Masukkan sebuah angka (atau ketik 0 untuk keluar): 4\n",
            "Bukan kelipatan 5\n",
            "Masukkan sebuah angka (atau ketik 0 untuk keluar): 0\n",
            "Program selesai.\n"
          ]
        }
      ],
      "source": [
        "while True:\n",
        "    try:\n",
        "        angka = int(input(\"Masukkan sebuah angka (atau ketik 0 untuk keluar): \"))\n",
        "\n",
        "        if angka == 0:\n",
        "            print(\"Program selesai.\")\n",
        "            break\n",
        "\n",
        "        if angka % 5 == 0:\n",
        "            print(\"Kelipatan 5\")\n",
        "        else:\n",
        "            print(\"Bukan kelipatan 5\")\n",
        "\n",
        "    except ValueError:\n",
        "        print(\"Error: Masukkan angka yang valid!\")"
      ]
    }
  ]
}